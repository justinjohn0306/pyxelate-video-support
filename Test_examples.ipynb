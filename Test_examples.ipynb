{
  "cells": [
    {
      "cell_type": "markdown",
      "metadata": {
        "id": "JoXJDHQHlEW7"
      },
      "source": [
        "# Pyxelate example notebook"
      ]
    },
    {
      "cell_type": "code",
      "execution_count": null,
      "metadata": {
        "id": "hSCkRNDGlEW9"
      },
      "outputs": [],
      "source": [
        "# If set to True, example images in README.md will be overwritten!\n",
        "SAVE_IMAGES = False"
      ]
    },
    {
      "cell_type": "code",
      "source": [
        "!git clone https://github.com/justinjohn0306/pyxelate-video-support.git"
      ],
      "metadata": {
        "id": "lF1zh2k6lKv0"
      },
      "execution_count": null,
      "outputs": []
    },
    {
      "cell_type": "code",
      "source": [
        "%cd pyxelate-video-support"
      ],
      "metadata": {
        "id": "dsZzZFvWlg40"
      },
      "execution_count": null,
      "outputs": []
    },
    {
      "cell_type": "code",
      "source": [
        "!pip install git+https://github.com/justinjohn0306/pyxelate-video-support.git --upgrade"
      ],
      "metadata": {
        "id": "-rATOwxXlVx0"
      },
      "execution_count": null,
      "outputs": []
    },
    {
      "cell_type": "code",
      "source": [
        "!pip install numpy --upgrade"
      ],
      "metadata": {
        "id": "BdRlF26uJh1P"
      },
      "execution_count": null,
      "outputs": []
    },
    {
      "cell_type": "markdown",
      "source": [
        "# **Restart the runtime before proceeding further**"
      ],
      "metadata": {
        "id": "RE961HV7K-_o"
      }
    },
    {
      "cell_type": "code",
      "execution_count": null,
      "metadata": {
        "id": "iBIB-Lv_lEW_"
      },
      "outputs": [],
      "source": [
        "from os import path\n",
        "import numpy as np\n",
        "import matplotlib.pyplot as plt\n",
        "from skimage import io\n",
        "\n",
        "from pyxelate import Pyx, Pal"
      ]
    },
    {
      "cell_type": "code",
      "execution_count": null,
      "metadata": {
        "id": "23wc4vlqlEW_"
      },
      "outputs": [],
      "source": [
        "# Display images in Jupyter Notebook\n",
        "\n",
        "def plot(subplots=[], save_as=None, fig_h=9):\n",
        "    \"\"\"Plotting helper function\"\"\"\n",
        "    fig, ax = plt.subplots(int(np.ceil(len(subplots) / 3)), \n",
        "                           min(3, len(subplots)), \n",
        "                           figsize=(18, fig_h))\n",
        "    if len(subplots) == 1:\n",
        "        ax = [ax]\n",
        "    else:\n",
        "        ax = ax.ravel()\n",
        "    for i, subplot in enumerate(subplots):\n",
        "        if isinstance(subplot, dict):\n",
        "            ax[i].set_title(subplot[\"title\"])\n",
        "            ax[i].imshow(subplot[\"image\"])\n",
        "        else:\n",
        "            ax[i].imshow(subplot)\n",
        "    fig.tight_layout()\n",
        "    if save_as is not None and SAVE_IMAGES:\n",
        "        # Save image as an example in README.md\n",
        "        plt.savefig(path.join(\"examples/\", save_as), transparent=True)\n",
        "    plt.show()\n"
      ]
    },
    {
      "cell_type": "code",
      "execution_count": null,
      "metadata": {
        "scrolled": false,
        "id": "QxMxJqVHlEXA"
      },
      "outputs": [],
      "source": [
        "# load image with 'skimage.io.imread()'\n",
        "image = io.imread(\"/content/pyxelate-video-support/examples/blazkowicz.jpg\")  \n",
        "\n",
        "downsample_by = 14  # new image will be 1/14th of the original in size\n",
        "palette = 7  # find 7 colors\n",
        "\n",
        "# 1) Instantiate Pyx transformer\n",
        "pyx = Pyx(factor=downsample_by, palette=palette)\n",
        "\n",
        "# 2) fit an image, allow Pyxelate to learn the color palette\n",
        "pyx.fit(image)\n",
        "\n",
        "# 3) transform image to pixel art using the learned color palette\n",
        "new_image = pyx.transform(image)\n",
        "\n",
        "# save new image with 'skimage.io.imsave()'\n",
        "#io.imsave(\"examples/test.png\", new_image)\n",
        "plot([image, new_image], \"p_blazkowicz.png\")"
      ]
    },
    {
      "cell_type": "code",
      "execution_count": null,
      "metadata": {
        "id": "aYV_fw6PlEXB"
      },
      "outputs": [],
      "source": [
        "car = io.imread(\"/content/pyxelate-video-support/examples/f1.jpg\")\n",
        "robocop = io.imread(\"/content/pyxelate-video-support/examples/robocop.jpg\")\n",
        "\n",
        "# fit a model on each\n",
        "pyx_car = Pyx(factor=5, palette=8, dither=\"none\").fit(car)\n",
        "pyx_robocop = Pyx(factor=6, palette=7, dither=\"naive\", svd=True).fit(robocop)\n",
        "\n",
        "plot([{\"title\":\"fit(car)\", \"image\":car},\n",
        "      {\"title\":\"transform(car)\", \"image\":pyx_car.transform(car)},\n",
        "      {\"title\":\"transform(robocop)\", \"image\":pyx_car.transform(robocop)},\n",
        "      {\"title\":\"fit(robocop)\", \"image\":robocop},\n",
        "      {\"title\":\"transform(car)\", \"image\":pyx_robocop.transform(car)},\n",
        "      {\"title\":\"transform(robocop)\", \"image\":pyx_robocop.transform(robocop)},\n",
        "     ], \"p_fit_transform.png\", fig_h=18)"
      ]
    },
    {
      "cell_type": "code",
      "execution_count": null,
      "metadata": {
        "id": "4rjSOpQ2lEXB"
      },
      "outputs": [],
      "source": [
        "br = io.imread(\"/content/pyxelate-video-support/examples/br.jpg\")\n",
        "br_p = Pyx(factor=6, palette=6, dither=\"naive\").fit_transform(br)\n",
        "\n",
        "plot([br, br_p], \"p_br.png\", 6)"
      ]
    },
    {
      "cell_type": "code",
      "execution_count": null,
      "metadata": {
        "scrolled": false,
        "id": "OEbOi2SllEXC"
      },
      "outputs": [],
      "source": [
        "br2 = io.imread(\"/content/pyxelate-video-support/examples/br2.jpg\")\n",
        "br2_p = Pyx(factor=3, palette=7, dither=\"atkinson\").fit_transform(br2)\n",
        "\n",
        "plot([br2, br2_p], \"p_br2.png\", 6)"
      ]
    },
    {
      "cell_type": "code",
      "execution_count": null,
      "metadata": {
        "id": "cbaqvIsJlEXC"
      },
      "outputs": [],
      "source": [
        "# fit() and transform() on image with alpha channel\n",
        "trex = io.imread(\"/content/pyxelate-video-support/examples/trex.png\")\n",
        "p_trex = Pyx(factor=9, palette=4, dither=\"naive\", alpha=.6).fit_transform(trex)\n",
        "\n",
        "plot([{\"title\":\"Converting PNG with alpha channel\", \"image\":trex},\n",
        "      {\"title\":\"Pixels are either opaque/transparent above/below alpha threshold\", \"image\":p_trex}],\n",
        "    \"p_trex.png\")"
      ]
    },
    {
      "cell_type": "code",
      "execution_count": null,
      "metadata": {
        "id": "yJU84Su5lEXC"
      },
      "outputs": [],
      "source": [
        "# this will be REALLY SLOW!!!\n",
        "\n",
        "palm = io.imread(\"/content/pyxelate-video-support/examples/palms3.jpg\")\n",
        "palm_none = Pyx(factor=4, palette=6, dither=\"none\").fit_transform(palm)\n",
        "palm_naive = Pyx(factor=4, palette=6, dither=\"naive\").fit_transform(palm)\n",
        "palm_bayer = Pyx(factor=4, palette=6, dither=\"bayer\").fit_transform(palm)\n",
        "palm_floyd = Pyx(factor=4, palette=6, dither=\"floyd\").fit_transform(palm)\n",
        "palm_atkinson = Pyx(factor=4, palette=6, dither=\"atkinson\").fit_transform(palm)\n"
      ]
    },
    {
      "cell_type": "code",
      "execution_count": null,
      "metadata": {
        "id": "HP7YEWS-lEXD"
      },
      "outputs": [],
      "source": [
        "plot([\n",
        "    {\"title\":'Original', \"image\":palm},\n",
        "    {\"title\":'Pyx(factor=5, palette=6, dither=\"none\")', \"image\":palm_none},\n",
        "    {\"title\":'Pyx(factor=5, palette=6, dither=\"naive\")', \"image\":palm_naive},\n",
        "    {\"title\":'Pyx(factor=5, palette=6, dither=\"bayer\")', \"image\":palm_bayer},\n",
        "    {\"title\":'Pyx(factor=5, palette=6, dither=\"floyd\")', \"image\":palm_floyd},\n",
        "    {\"title\":'Pyx(factor=5, palette=6, dither=\"atkinson\")', \"image\":palm_atkinson}\n",
        "     ], \n",
        "    \"p_palms.png\", fig_h=18)"
      ]
    },
    {
      "cell_type": "code",
      "execution_count": null,
      "metadata": {
        "id": "kNZd4DNClEXD"
      },
      "outputs": [],
      "source": [
        "vangogh = io.imread(\"/content/pyxelate-video-support/examples/vangogh.jpg\")\n",
        "\n",
        "vangogh_apple = Pyx(factor=12, palette=Pal.APPLE_II_HI, dither=\"atkinson\").fit_transform(vangogh)\n",
        "vangogh_mspaint = Pyx(factor=8, palette=Pal.MICROSOFT_WINDOWS_PAINT, dither=\"none\").fit_transform(vangogh)\n",
        "\n",
        "plot([{\"title\":\"Apple II\", \"image\":vangogh_apple},\n",
        "      {\"title\":\"Windows Paint\", \"image\":vangogh_mspaint}],\n",
        "      \"p_vangogh.png\")"
      ]
    },
    {
      "cell_type": "code",
      "execution_count": null,
      "metadata": {
        "id": "PcoRn_0ilEXE"
      },
      "outputs": [],
      "source": [
        "# names of all palettes available\n",
        "Pal.list()"
      ]
    },
    {
      "cell_type": "code",
      "execution_count": null,
      "metadata": {
        "id": "keR72W6vlEXE"
      },
      "outputs": [],
      "source": [
        "# original image\n",
        "corgi = io.imread(\"/content/pyxelate-video-support/examples/corgi.jpg\")\n",
        "# find 5 colors automatically\n",
        "corgi_5 = Pyx(factor=8, palette=5, dither=\"none\", svd=True).fit_transform(corgi)\n",
        "# assign CGA palette\n",
        "corgi_cga = Pyx(factor=8, palette=Pal.CGA_MODE4_PAL1, dither=\"naive\", svd=True).fit_transform(corgi)\n",
        "\n",
        "# assign BBC Micro palette\n",
        "corgi_bbc = Pyx(factor=8, palette=Pal.ZX_SPECTRUM, dither=\"naive\", svd=False).fit_transform(corgi)\n",
        "# assign Game Boy palette\n",
        "corgi_gb = Pyx(factor=8, palette=Pal.GAMEBOY_ORIGINAL, dither=\"none\", svd=True).fit_transform(corgi)\n",
        "# assign C64 palette\n",
        "corgi_c64 = Pyx(factor=8, palette=Pal.COMMODORE_64, dither=\"naive\", svd=True).fit_transform(corgi)\n",
        "\n",
        "plot([{\"title\": \"Original\", \"image\": corgi},\n",
        "      {\"title\": \"5 color palette\", \"image\": corgi_5},\n",
        "      {\"title\": \"CGA\", \"image\": corgi_cga},\n",
        "      {\"title\": \"BBC Micro\", \"image\": corgi_bbc},\n",
        "      {\"title\": \"Game Boy Original\", \"image\": corgi_gb},\n",
        "      {\"title\": \"Commodore 64\", \"image\": corgi_c64}],\n",
        "      \"p_corgi.png\")"
      ]
    },
    {
      "cell_type": "code",
      "execution_count": null,
      "metadata": {
        "id": "3uaxP1yslEXE"
      },
      "outputs": [],
      "source": [
        ""
      ]
    }
  ],
  "metadata": {
    "kernelspec": {
      "display_name": "Python 3",
      "language": "python",
      "name": "python3"
    },
    "language_info": {
      "codemirror_mode": {
        "name": "ipython",
        "version": 3
      },
      "file_extension": ".py",
      "mimetype": "text/x-python",
      "name": "python",
      "nbconvert_exporter": "python",
      "pygments_lexer": "ipython3",
      "version": "3.9.2"
    },
    "colab": {
      "name": "Test_examples.ipynb",
      "provenance": [],
      "collapsed_sections": []
    }
  },
  "nbformat": 4,
  "nbformat_minor": 0
}